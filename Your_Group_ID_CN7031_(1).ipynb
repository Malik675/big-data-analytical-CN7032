{
  "nbformat": 4,
  "nbformat_minor": 0,
  "metadata": {
    "colab": {
      "provenance": [],
      "collapsed_sections": [
        "Lx9-Fre4FMda"
      ]
    },
    "kernelspec": {
      "name": "python3",
      "display_name": "Python 3"
    }
  },
  "cells": [
    {
      "cell_type": "markdown",
      "metadata": {
        "id": "Lx9-Fre4FMda"
      },
      "source": [
        "# **Big Data Analytics [CN7031] CRWK 2023-24**\n",
        "# **Group ID: [Your Group ID]**\n",
        "1.   Student 1: Name and ID\n",
        "2.   Student 2: Name and ID\n",
        "3.   Student 3: Name and ID\n",
        "4.   Student 4: Name and ID\n",
        "\n",
        "---\n",
        "\n",
        "\n",
        "If you want to add comments on your group work, please write it here for us:"
      ]
    },
    {
      "cell_type": "markdown",
      "metadata": {
        "id": "GdMZR-9QTwG3"
      },
      "source": [
        "\n",
        "# **Initiate and Configure Spark**\n",
        "\n",
        "---\n"
      ]
    },
    {
      "cell_type": "code",
      "metadata": {
        "id": "2wbXV70D6xbl",
        "colab": {
          "base_uri": "https://localhost:8080/"
        },
        "outputId": "84065020-4be3-4cf1-99dc-43a079b70c19"
      },
      "source": [
        "!pip3 install pyspark"
      ],
      "execution_count": 34,
      "outputs": [
        {
          "output_type": "stream",
          "name": "stdout",
          "text": [
            "Requirement already satisfied: pyspark in /usr/local/lib/python3.10/dist-packages (3.5.0)\n",
            "Requirement already satisfied: py4j==0.10.9.7 in /usr/local/lib/python3.10/dist-packages (from pyspark) (0.10.9.7)\n"
          ]
        }
      ]
    },
    {
      "cell_type": "code",
      "metadata": {
        "id": "_z0p88Xtw_3-"
      },
      "source": [
        "# linking with Spark\n"
      ],
      "execution_count": null,
      "outputs": []
    },
    {
      "cell_type": "markdown",
      "metadata": {
        "id": "6P2CZVl6TOQX"
      },
      "source": [
        "# **Load Unstructured Data and Convert it to Spark DF [10 marks]**\n",
        "\n",
        "---\n"
      ]
    },
    {
      "cell_type": "code",
      "source": [
        "from pyspark.sql import SparkSession\n",
        "from pyspark.sql.functions import split\n"
      ],
      "metadata": {
        "id": "NbV-mUvKRWSr"
      },
      "execution_count": 35,
      "outputs": []
    },
    {
      "cell_type": "code",
      "source": [
        "# Load the unstructrued data: (1) drag and drop data here or (2) use Google Drive\n",
        "spark = SparkSession.builder.appName(\"WebLogAnalysis\").getOrCreate()\n"
      ],
      "metadata": {
        "id": "efdQkCg_soaq"
      },
      "execution_count": 36,
      "outputs": []
    },
    {
      "cell_type": "code",
      "source": [
        "log_data_path = \"/content/web.log\"\n",
        "raw_data = spark.read.text(log_data_path)\n"
      ],
      "metadata": {
        "id": "x4iCwJgER14D"
      },
      "execution_count": 37,
      "outputs": []
    },
    {
      "cell_type": "code",
      "metadata": {
        "id": "U-zSlLkNtCCw"
      },
      "source": [
        "# Convert the unstructrued data to Spark DF\n",
        "# Assuming common log format: IP_address - - [timestamp] \"request\" status_code bytes_sent\n",
        "split_data = split(raw_data['value'], ' ')\n",
        "\n",
        "# Create columns for different components of the log entry\n",
        "raw_data = raw_data.withColumn('ip_address', split_data.getItem(0))\n",
        "raw_data = raw_data.withColumn('timestamp', split_data.getItem(3))\n",
        "raw_data = raw_data.withColumn('request', split_data.getItem(5))\n",
        "raw_data = raw_data.withColumn('status_code', split_data.getItem(6))\n",
        "raw_data = raw_data.withColumn('bytes_sent', split_data.getItem(7))\n"
      ],
      "execution_count": 38,
      "outputs": []
    },
    {
      "cell_type": "code",
      "source": [
        "web_log_df = raw_data.select('ip_address', 'timestamp', 'request', 'status_code', 'bytes_sent')\n"
      ],
      "metadata": {
        "id": "lSH4vytgSCMM"
      },
      "execution_count": 39,
      "outputs": []
    },
    {
      "cell_type": "code",
      "source": [
        "web_log_df.show()\n"
      ],
      "metadata": {
        "colab": {
          "base_uri": "https://localhost:8080/"
        },
        "id": "Zmeo8o7DSFH0",
        "outputId": "6b332431-8dab-47cd-dad0-c57595374955"
      },
      "execution_count": 40,
      "outputs": [
        {
          "output_type": "stream",
          "name": "stdout",
          "text": [
            "+---------------+--------------------+--------------------+-----------+----------+\n",
            "|     ip_address|           timestamp|             request|status_code|bytes_sent|\n",
            "+---------------+--------------------+--------------------+-----------+----------+\n",
            "| 88.211.105.115|[04/Mar/2022:14:1...|  /history/missions/|  HTTP/2.0\"|       414|\n",
            "|   144.6.49.142|[02/Sep/2022:15:1...| /security/firewall/| HTTPS/1.0\"|       203|\n",
            "|  231.70.64.145|[19/Jul/2022:01:3...|/web-development/...|  HTTP/1.0\"|       201|\n",
            "| 219.42.234.172|[08/Feb/2022:11:3...|/networking/techn...|  HTTP/1.0\"|       415|\n",
            "| 183.173.185.94|[29/Aug/2023:03:0...| /security/firewall/|  HTTP/2.0\"|       205|\n",
            "|   164.12.8.113|[22/May/2023:09:4...|/web-development/...|  HTTP/1.0\"|       200|\n",
            "|   110.98.7.240|[22/Jan/2023:09:5...|    /history/apollo/|  HTTP/2.0\"|       204|\n",
            "| 27.182.196.243|[28/Mar/2022:05:3...| /history/apollo-11/| HTTPS/1.0\"|       414|\n",
            "|  123.31.25.147|[25/Feb/2023:12:0...|/data-analysis/mi...|  HTTP/1.0\"|       204|\n",
            "|  220.182.78.75|[22/Dec/2022:12:5...|    /history/launch/|  HTTP/2.0\"|       200|\n",
            "| 206.186.128.82|[13/Oct/2023:07:2...|/security/apollo-11/|  HTTP/1.0\"|       404|\n",
            "| 143.238.50.180|[26/Oct/2023:17:1...|/data-analysis/mi...| HTTPS/1.0\"|       307|\n",
            "|   12.33.251.59|[15/Aug/2022:15:5...|/web-development/...|  HTTP/2.0\"|       203|\n",
            "| 39.107.109.242|[08/Oct/2023:07:0...|      /shuttle/data/| HTTPS/1.0\"|       201|\n",
            "| 250.231.144.68|[22/Jun/2022:19:1...|/security/deep-le...| HTTPS/1.0\"|       500|\n",
            "| 103.105.160.60|[24/Oct/2023:01:5...|/shuttle/cybersec...|  HTTP/1.0\"|       416|\n",
            "|246.167.148.159|[14/Oct/2022:11:4...|/security/deep-le...|  HTTP/2.0\"|       500|\n",
            "| 185.221.50.185|[25/Jan/2023:02:4...|/images/frontend-...|  HTTP/2.0\"|       308|\n",
            "| 144.143.171.58|[30/Aug/2022:08:0...|/software/apollo-11/|  HTTP/2.0\"|       304|\n",
            "|  131.119.14.93|[26/Jun/2022:16:4...| /networking/launch/|  HTTP/1.0\"|       205|\n",
            "+---------------+--------------------+--------------------+-----------+----------+\n",
            "only showing top 20 rows\n",
            "\n"
          ]
        }
      ]
    },
    {
      "cell_type": "code",
      "source": [
        "spark.stop()\n"
      ],
      "metadata": {
        "id": "U5gEKBFmSIk6"
      },
      "execution_count": null,
      "outputs": []
    },
    {
      "cell_type": "markdown",
      "metadata": {
        "id": "-RjT7_UHAqic"
      },
      "source": [
        "\n",
        "# **Task 1: Spark SQL [30 marks]**\n",
        "\n",
        "---\n",
        "\n"
      ]
    },
    {
      "cell_type": "code",
      "source": [
        "web_log_df.createOrReplaceTempView(\"web_log_table\")"
      ],
      "metadata": {
        "id": "2y9FutbE-6fH"
      },
      "execution_count": 41,
      "outputs": []
    },
    {
      "cell_type": "code",
      "metadata": {
        "id": "7fCFTcOQBLD2"
      },
      "source": [
        "# Student 1 name and ID\n",
        "# Query 1: Count the total number of log entries\n",
        "query1 = spark.sql(\"SELECT COUNT(*) AS total_entries FROM web_log_table\")\n"
      ],
      "execution_count": 42,
      "outputs": []
    },
    {
      "cell_type": "code",
      "metadata": {
        "id": "px6ndUu-SaO1"
      },
      "source": [
        "# Student 1 name and ID\n",
        "# Query 2: Find the unique IP addresses in the log\n",
        "query2 = spark.sql(\"SELECT DISTINCT ip_address FROM web_log_table\")"
      ],
      "execution_count": 44,
      "outputs": []
    },
    {
      "cell_type": "code",
      "metadata": {
        "id": "G4OQ9MvKBAUQ"
      },
      "source": [
        "# Student 2 name and ID\n",
        "# Query 3: Count the number of requests for each status code\n",
        "query3 = spark.sql(\"SELECT status_code, COUNT(*) AS count FROM web_log_table GROUP BY status_code\")"
      ],
      "execution_count": 43,
      "outputs": []
    },
    {
      "cell_type": "code",
      "metadata": {
        "id": "c7bOzYDvSfMo"
      },
      "source": [
        "# Student 2 name and ID\n",
        "\n",
        "# Query 4: Find the top 10 most requested URLs\n",
        "query4 = spark.sql(\"SELECT request, COUNT(*) AS request_count FROM web_log_table GROUP BY request ORDER BY request_count DESC LIMIT 10\")\n"
      ],
      "execution_count": 45,
      "outputs": []
    },
    {
      "cell_type": "code",
      "metadata": {
        "id": "Vkh4cLhuBEly"
      },
      "source": [
        "# Student 3 name and ID\n",
        "# Query 5: Identify the busiest hours based on the number of requests\n",
        "query5 = spark.sql(\"SELECT SUBSTRING_INDEX(timestamp, ':', 1) AS hour, COUNT(*) AS request_count FROM web_log_table GROUP BY hour ORDER BY request_count DESC LIMIT 5\")"
      ],
      "execution_count": 46,
      "outputs": []
    },
    {
      "cell_type": "code",
      "metadata": {
        "id": "WQM_0VVmSjzK"
      },
      "source": [
        "# Student 3 name and ID\n",
        "# Query 6: Calculate the average bytes sent per request\n",
        "query6 = spark.sql(\"SELECT AVG(bytes_sent) AS avg_bytes_sent FROM web_log_table\")\n"
      ],
      "execution_count": 47,
      "outputs": []
    },
    {
      "cell_type": "code",
      "metadata": {
        "id": "0Rm5BZNdBIbC"
      },
      "source": [
        "# Student 4 name and ID\n",
        "\n",
        "# Query 7: Find the requests with a status code of 404 (Not Found)\n",
        "query7 = spark.sql(\"SELECT * FROM web_log_table WHERE status_code = '404'\")"
      ],
      "execution_count": 48,
      "outputs": []
    },
    {
      "cell_type": "code",
      "metadata": {
        "id": "uojM8-mJSnyg"
      },
      "source": [
        "# Student 4 name and ID\n",
        "\n",
        "# Query 8: Identify the IP addresses with the highest number of requests\n",
        "query8 = spark.sql(\"SELECT ip_address, COUNT(*) AS request_count FROM web_log_table GROUP BY ip_address ORDER BY request_count DESC LIMIT 5\")"
      ],
      "execution_count": 49,
      "outputs": []
    },
    {
      "cell_type": "code",
      "source": [
        "# Show the results of the queries\n",
        "query1.show()\n",
        "query2.show()\n",
        "query3.show()\n",
        "query4.show()\n",
        "query5.show()\n",
        "query6.show()\n",
        "query7.show()\n",
        "query8.show()"
      ],
      "metadata": {
        "id": "KhgJOwaOVkMd",
        "colab": {
          "base_uri": "https://localhost:8080/"
        },
        "outputId": "f9893e4c-98a8-4189-b9b7-9a190531c871"
      },
      "execution_count": 50,
      "outputs": [
        {
          "output_type": "stream",
          "name": "stdout",
          "text": [
            "+-------------+\n",
            "|total_entries|\n",
            "+-------------+\n",
            "|       502788|\n",
            "+-------------+\n",
            "\n",
            "+---------------+\n",
            "|     ip_address|\n",
            "+---------------+\n",
            "|230.145.149.229|\n",
            "| 222.97.216.211|\n",
            "| 56.252.244.161|\n",
            "|  74.118.29.164|\n",
            "| 223.19.252.140|\n",
            "|  185.89.79.197|\n",
            "|101.251.172.143|\n",
            "|  120.127.56.14|\n",
            "| 11.218.194.190|\n",
            "| 229.251.98.142|\n",
            "|     40.90.7.31|\n",
            "|    29.78.31.21|\n",
            "|  16.115.44.122|\n",
            "|    8.36.91.198|\n",
            "| 206.125.95.176|\n",
            "| 91.188.228.254|\n",
            "|227.121.136.126|\n",
            "|209.243.134.154|\n",
            "|   3.207.247.51|\n",
            "|  10.108.187.20|\n",
            "+---------------+\n",
            "only showing top 20 rows\n",
            "\n",
            "+-----------+------+\n",
            "|status_code| count|\n",
            "+-----------+------+\n",
            "|  HTTP/1.0\"|167668|\n",
            "| HTTPS/1.0\"|167580|\n",
            "|  HTTP/2.0\"|167539|\n",
            "|       NULL|     1|\n",
            "+-----------+------+\n",
            "\n",
            "+--------------------+-------------+\n",
            "|             request|request_count|\n",
            "+--------------------+-------------+\n",
            "|/data-analysis/ap...|         4394|\n",
            "|/web-development/...|         4327|\n",
            "|/software/technol...|         4310|\n",
            "|/cloud-computing/...|         4289|\n",
            "|/web-development/...|         4287|\n",
            "|/web-development/...|         4273|\n",
            "|/web-development/...|         4265|\n",
            "|/data-analysis/aw...|         4264|\n",
            "|/security/technol...|         4262|\n",
            "|/machine-learning...|         4258|\n",
            "+--------------------+-------------+\n",
            "\n",
            "+------------+-------------+\n",
            "|        hour|request_count|\n",
            "+------------+-------------+\n",
            "|[25/Jun/2022|          814|\n",
            "|[03/Jul/2023|          812|\n",
            "|[07/Feb/2023|          804|\n",
            "|[17/May/2022|          802|\n",
            "|[01/Sep/2023|          801|\n",
            "+------------+-------------+\n",
            "\n",
            "+-----------------+\n",
            "|   avg_bytes_sent|\n",
            "+-----------------+\n",
            "|305.8273165376193|\n",
            "+-----------------+\n",
            "\n",
            "+----------+---------+-------+-----------+----------+\n",
            "|ip_address|timestamp|request|status_code|bytes_sent|\n",
            "+----------+---------+-------+-----------+----------+\n",
            "+----------+---------+-------+-----------+----------+\n",
            "\n",
            "+---------------+-------------+\n",
            "|     ip_address|request_count|\n",
            "+---------------+-------------+\n",
            "|218.183.191.251|            2|\n",
            "|  206.23.52.188|            2|\n",
            "|  52.56.247.227|            2|\n",
            "| 237.252.14.177|            2|\n",
            "|   21.5.208.148|            2|\n",
            "+---------------+-------------+\n",
            "\n"
          ]
        }
      ]
    },
    {
      "cell_type": "markdown",
      "metadata": {
        "id": "dcJhGbI2BKpx"
      },
      "source": [
        "\n",
        "# **Task 2 - Spark RDD [50 marks]**\n",
        "\n",
        "---\n"
      ]
    },
    {
      "cell_type": "code",
      "source": [
        "from pyspark import SparkContext\n",
        "\n",
        "# Assuming you have a SparkSession named 'spark'\n",
        "sc = SparkContext.getOrCreate()\n",
        "\n",
        "# Replace 'your_file_path' with the actual path to your log file\n",
        "log_data_path = \"/content/web.log\"\n",
        "\n",
        "# Read the raw log data into an RDD\n",
        "web_log_rdd = sc.textFile(log_data_path)\n",
        "\n",
        "# Now you can perform RDD transformations on 'raw_data_rdd'\n"
      ],
      "metadata": {
        "id": "TRS3BKZWS3Tt"
      },
      "execution_count": 59,
      "outputs": []
    },
    {
      "cell_type": "code",
      "metadata": {
        "id": "V3eiN9geBQRf"
      },
      "source": [
        "# Student 1 name and ID\n",
        "# Assuming web_log_rdd has already been created\n",
        "\n",
        "# Query 1: Count the total number of log entries\n",
        "query1 = web_log_rdd.count()"
      ],
      "execution_count": 60,
      "outputs": []
    },
    {
      "cell_type": "code",
      "metadata": {
        "id": "FQ_-hgdeiMle"
      },
      "source": [
        "# Student 1 name and ID\n",
        "\n",
        "# Query 2: Find the unique IP addresses in the log\n",
        "query2 = web_log_rdd.map(lambda line: line.split(' ')[0]).distinct()"
      ],
      "execution_count": 61,
      "outputs": []
    },
    {
      "cell_type": "code",
      "metadata": {
        "id": "2JGQHXYliMK5"
      },
      "source": [
        "# Student 1 name and ID\n",
        "# analysis 3 and result using RDD operators:\n",
        "\n",
        "query3 = web_log_rdd.map(lambda line: (line.split(' ')[6], 1)).reduceByKey(lambda x, y: x + y)\n",
        "\n"
      ],
      "execution_count": 62,
      "outputs": []
    },
    {
      "cell_type": "code",
      "metadata": {
        "id": "A5mwMvIsBQlX"
      },
      "source": [
        "# Student 2 name and ID\n",
        "# analysis 1 and result using RDD operators:\n",
        "query4_rdd = web_log_rdd.map(lambda line: (line.split(' ')[5], 1)).reduceByKey(lambda x, y: x + y)\n"
      ],
      "execution_count": 63,
      "outputs": []
    },
    {
      "cell_type": "code",
      "metadata": {
        "id": "ElWikZNGBQti"
      },
      "source": [
        "# Student 2 name and ID\n",
        "# analysis 2 and result using RDD operators:\n",
        "query5 = web_log_rdd.map(lambda line: (line.split(' ')[3].split(':')[1], 1)).reduceByKey(lambda x, y: x + y).sortBy(lambda x: x[1], False).take(5)\n",
        "\n"
      ],
      "execution_count": 64,
      "outputs": []
    },
    {
      "cell_type": "code",
      "metadata": {
        "id": "dKsR4pkJBRaB"
      },
      "source": [
        "# Student 2 name and ID\n",
        "# analysis 3 and result using RDD operators:\n",
        "query6_rdd = web_log_rdd.map(lambda line: int(line.split(' ')[7]))"
      ],
      "execution_count": 65,
      "outputs": []
    },
    {
      "cell_type": "code",
      "metadata": {
        "id": "pltbpQ2iiVj0"
      },
      "source": [
        "# Student 3 name and ID\n",
        "# analysis 1 and result using RDD operators:\n",
        "query7 = web_log_rdd.filter(lambda line: line.split(' ')[6] == '404')\n"
      ],
      "execution_count": 66,
      "outputs": []
    },
    {
      "cell_type": "code",
      "metadata": {
        "id": "hBqDFxLHiVqT"
      },
      "source": [
        "# Student 3 name and ID\n",
        "# analysis 2 and result using RDD operators:\n",
        "\n",
        "query8 = web_log_rdd.map(lambda line: (line.split(' ')[0], 1)).reduceByKey(lambda x, y: x + y).sortBy(lambda x: x[1], False).take(5)"
      ],
      "execution_count": 67,
      "outputs": []
    },
    {
      "cell_type": "code",
      "metadata": {
        "id": "nefE3dztiWmR"
      },
      "source": [
        "# Student 3 name and ID\n",
        "# analysis 3 and result using RDD operators:\n",
        "query9 = web_log_rdd.map(lambda line: (line.split(' ')[3].split(':')[1], 1)).reduceByKey(lambda x, y: x + y)\n",
        "\n"
      ],
      "execution_count": 68,
      "outputs": []
    },
    {
      "cell_type": "code",
      "source": [],
      "metadata": {
        "id": "8oWNBwLQZbJl"
      },
      "execution_count": null,
      "outputs": []
    },
    {
      "cell_type": "code",
      "metadata": {
        "id": "FM_3Ih8miXvO"
      },
      "source": [
        "# Student 4 name and ID\n",
        "# analysis 2 and result using RDD operators:\n",
        "query10 = web_log_rdd.map(lambda line: (line.split(' ')[6], int(line.split(' ')[7]))).combineByKey(\n",
        "    lambda value: (value, 1),\n",
        "    lambda x, value: (x[0] + value, x[1] + 1),\n",
        "    lambda x, y: (x[0] + y[0], x[1] + y[1])\n",
        ").map(lambda x: (x[0], x[1][0] / x[1][1]))\n"
      ],
      "execution_count": 70,
      "outputs": []
    },
    {
      "cell_type": "code",
      "source": [
        "\n",
        "# Show the results of the queries\n",
        "print(\"Query 1:\", query1)\n",
        "print(\"Query 2:\", query2.collect())\n",
        "\n",
        "print(\"Query 4:\", query4)\n",
        "print(\"Query 5:\", query5)\n",
        "print(\"Query 6:\", query6)\n",
        "print(\"Query 7:\", query7)\n",
        "print(\"Query 8:\", query8)\n",
        "print(\"Query 9:\", query9.collect())\n",
        "print(\"Query 10:\", query10)\n"
      ],
      "metadata": {
        "colab": {
          "base_uri": "https://localhost:8080/"
        },
        "id": "N9l-k5--ZfJ9",
        "outputId": "81e91ba7-9f1a-411a-f141-091166d129a9"
      },
      "execution_count": 71,
      "outputs": [
        {
          "output_type": "stream",
          "name": "stdout",
          "text": [
            "Query 1: 502788\n"
          ]
        },
        {
          "output_type": "stream",
          "name": "stderr",
          "text": [
            "IOPub data rate exceeded.\n",
            "The notebook server will temporarily stop sending output\n",
            "to the client in order to avoid crashing it.\n",
            "To change this limit, set the config variable\n",
            "`--NotebookApp.iopub_data_rate_limit`.\n",
            "\n",
            "Current values:\n",
            "NotebookApp.iopub_data_rate_limit=1000000.0 (bytes/sec)\n",
            "NotebookApp.rate_limit_window=3.0 (secs)\n",
            "\n"
          ]
        },
        {
          "output_type": "stream",
          "name": "stdout",
          "text": [
            "Query 9: [('16', 21072), ('23', 20890), ('04', 20833), ('22', 20991), ('06', 21019), ('13', 20994), ('20', 20801), ('15', 20980), ('03', 21000), ('09', 20979), ('12', 20895), ('02', 20982), ('00', 20912), ('18', 20876), ('10', 20844), ('14', 20938), ('01', 21020), ('11', 21161), ('05', 20865), ('07', 20887), ('17', 21056), ('19', 20908), ('08', 21074), ('21', 20811)]\n",
            "Query 10: PythonRDD[613] at RDD at PythonRDD.scala:53\n"
          ]
        }
      ]
    },
    {
      "cell_type": "markdown",
      "metadata": {
        "id": "wHft1Jht1Qxl"
      },
      "source": [
        "\n",
        "# **Task 3 - LSEP (legal, social, ethical, and professional) considerations [5 marks]**\n",
        "\n",
        "---\n"
      ]
    },
    {
      "cell_type": "markdown",
      "source": [
        "For all analyses performed, critically analyze the legal, social, ethical, and professional implications associated with the data and the analysis. Consider factors such as `data privacy`,` data protection`, `bias`, `fairness`, `transparency`, and the `potential impact` of the analysis on individuals or society as a whole.\n",
        "\n",
        "**Each student should take one of these factors as their contribution.**\n",
        "\n",
        "As a team, discuss and share your individual analyses and LSEP considerations with each other. Learn from each other's perspectives and insights."
      ],
      "metadata": {
        "id": "5liua9g8p8Ny"
      }
    },
    {
      "cell_type": "markdown",
      "source": [
        "## Student 1: chosen factor\n",
        "\n",
        "*discussion*\n",
        "\n",
        "\n",
        "## Student 2: chosen factor\n",
        "\n",
        "*discussion*\n",
        "\n",
        "## Student 3: chosen factor\n",
        "\n",
        "*discussion*\n",
        "\n",
        "\n",
        "## Student 4: chosen factor\n",
        "\n",
        "*discussion*\n"
      ],
      "metadata": {
        "id": "8_0x6oJlqzVA"
      }
    },
    {
      "cell_type": "code",
      "source": [
        "from pyspark.sql import SparkSession\n",
        "from pyspark.sql import functions as F\n",
        "\n",
        "from pyspark.sql.functions import sha2\n",
        "\n",
        "# Create a Spark session\n",
        "spark = SparkSession.builder.appName(\"WebLogAnalysis\").getOrCreate()\n",
        "\n",
        "# Assuming 'web_log_df' is your DataFrame\n",
        "# Anonymize the 'ip_address' column using sha2\n",
        "web_log_df = web_log_df.withColumn('ip_address', F.sha2('ip_address', 256))\n",
        "\n",
        "# Show the first few rows of the DataFrame\n",
        "web_log_df.show()\n"
      ],
      "metadata": {
        "colab": {
          "base_uri": "https://localhost:8080/"
        },
        "id": "l39Ypm32a0bU",
        "outputId": "968e550b-161d-4475-f958-dc07caac7964"
      },
      "execution_count": 78,
      "outputs": [
        {
          "output_type": "stream",
          "name": "stdout",
          "text": [
            "+--------------------+--------------------+--------------------+-----------+----------+\n",
            "|          ip_address|           timestamp|             request|status_code|bytes_sent|\n",
            "+--------------------+--------------------+--------------------+-----------+----------+\n",
            "|ecb86d3e4a7b77d0a...|[04/Mar/2022:14:1...|  /history/missions/|  HTTP/2.0\"|       414|\n",
            "|9dcc436e2a109702e...|[02/Sep/2022:15:1...| /security/firewall/| HTTPS/1.0\"|       203|\n",
            "|c5f7da76e80ecd4aa...|[19/Jul/2022:01:3...|/web-development/...|  HTTP/1.0\"|       201|\n",
            "|97e12c3e576d71893...|[08/Feb/2022:11:3...|/networking/techn...|  HTTP/1.0\"|       415|\n",
            "|9df0073041cee14d3...|[29/Aug/2023:03:0...| /security/firewall/|  HTTP/2.0\"|       205|\n",
            "|28f6ebd4b5dd11196...|[22/May/2023:09:4...|/web-development/...|  HTTP/1.0\"|       200|\n",
            "|b5d2333ec3111b529...|[22/Jan/2023:09:5...|    /history/apollo/|  HTTP/2.0\"|       204|\n",
            "|6ea4e1550f101b498...|[28/Mar/2022:05:3...| /history/apollo-11/| HTTPS/1.0\"|       414|\n",
            "|ab94ce18c4a9eb9d6...|[25/Feb/2023:12:0...|/data-analysis/mi...|  HTTP/1.0\"|       204|\n",
            "|7e1e3394cf52b3ad6...|[22/Dec/2022:12:5...|    /history/launch/|  HTTP/2.0\"|       200|\n",
            "|4d6f0e3e7c8f0c5a0...|[13/Oct/2023:07:2...|/security/apollo-11/|  HTTP/1.0\"|       404|\n",
            "|1357ff131c7ed751d...|[26/Oct/2023:17:1...|/data-analysis/mi...| HTTPS/1.0\"|       307|\n",
            "|2f8a25d14a8e08b35...|[15/Aug/2022:15:5...|/web-development/...|  HTTP/2.0\"|       203|\n",
            "|835337664ffbaf3b5...|[08/Oct/2023:07:0...|      /shuttle/data/| HTTPS/1.0\"|       201|\n",
            "|a6a9819e70d3cdd91...|[22/Jun/2022:19:1...|/security/deep-le...| HTTPS/1.0\"|       500|\n",
            "|69b3630317de056ba...|[24/Oct/2023:01:5...|/shuttle/cybersec...|  HTTP/1.0\"|       416|\n",
            "|beeecb6db4be1bd76...|[14/Oct/2022:11:4...|/security/deep-le...|  HTTP/2.0\"|       500|\n",
            "|1d53b2aed5823c4be...|[25/Jan/2023:02:4...|/images/frontend-...|  HTTP/2.0\"|       308|\n",
            "|bd6a802fda44c76a3...|[30/Aug/2022:08:0...|/software/apollo-11/|  HTTP/2.0\"|       304|\n",
            "|a65484e611218fa20...|[26/Jun/2022:16:4...| /networking/launch/|  HTTP/1.0\"|       205|\n",
            "+--------------------+--------------------+--------------------+-----------+----------+\n",
            "only showing top 20 rows\n",
            "\n"
          ]
        }
      ]
    },
    {
      "cell_type": "code",
      "source": [
        "# Anonymizing user data\n",
        "web_log_df = web_log_df.withColumn('ip_address', sha2('ip_address', 256))\n"
      ],
      "metadata": {
        "id": "KST_IPHebz8N"
      },
      "execution_count": 79,
      "outputs": []
    },
    {
      "cell_type": "code",
      "source": [
        "from pyspark.sql import SparkSession\n",
        "from pyspark.sql.functions import when"
      ],
      "metadata": {
        "id": "Po7SJRfjbaCr"
      },
      "execution_count": 82,
      "outputs": []
    },
    {
      "cell_type": "code",
      "source": [
        "# Applying fairness-aware techniques\n",
        "web_log_df = web_log_df.withColumn('request_count', when(web_log_df['status_code'] == '404', 1).otherwise(0))\n"
      ],
      "metadata": {
        "id": "p2izKLulb2oI"
      },
      "execution_count": 83,
      "outputs": []
    },
    {
      "cell_type": "code",
      "source": [
        "# Communicating data usage to users\n",
        "print(\"We use your data to improve our services. You can manage your privacy settings in the user dashboard.\")\n"
      ],
      "metadata": {
        "id": "0EAicr1zb5iM",
        "colab": {
          "base_uri": "https://localhost:8080/"
        },
        "outputId": "f0f0e26f-6d4f-40de-a5b0-848914692fb8"
      },
      "execution_count": 84,
      "outputs": [
        {
          "output_type": "stream",
          "name": "stdout",
          "text": [
            "We use your data to improve our services. You can manage your privacy settings in the user dashboard.\n"
          ]
        }
      ]
    },
    {
      "cell_type": "markdown",
      "metadata": {
        "id": "mIM6uLApSxi2"
      },
      "source": [
        "# **Convert ipynb to HTML for Turnitin submission [5 marks]**\n",
        "\n",
        "---\n",
        "\n"
      ]
    },
    {
      "cell_type": "code",
      "metadata": {
        "id": "ZrQu11N_DCfZ",
        "colab": {
          "base_uri": "https://localhost:8080/"
        },
        "outputId": "9b51d822-10d6-4275-a6f4-9a9e7b0e8a31"
      },
      "source": [
        "# install nbconvert\n",
        "#!pip3 install nbconvert\n",
        "\n",
        "\n",
        "# convert ipynb to html\n",
        "# file name: \"Your_Group_ID_CN7031.ipynb\n",
        "!jupyter nbconvert --to html Your_Group_ID_CN7031.ipynb"
      ],
      "execution_count": null,
      "outputs": [
        {
          "output_type": "stream",
          "name": "stdout",
          "text": [
            "[NbConvertApp] WARNING | pattern 'Your_Group_ID_CN7031.ipynb' matched no files\n",
            "This application is used to convert notebook files (*.ipynb)\n",
            "        to various other formats.\n",
            "\n",
            "        WARNING: THE COMMANDLINE INTERFACE MAY CHANGE IN FUTURE RELEASES.\n",
            "\n",
            "Options\n",
            "=======\n",
            "The options below are convenience aliases to configurable class-options,\n",
            "as listed in the \"Equivalent to\" description-line of the aliases.\n",
            "To see all configurable class-options for some <cmd>, use:\n",
            "    <cmd> --help-all\n",
            "\n",
            "--debug\n",
            "    set log level to logging.DEBUG (maximize logging output)\n",
            "    Equivalent to: [--Application.log_level=10]\n",
            "--show-config\n",
            "    Show the application's configuration (human-readable format)\n",
            "    Equivalent to: [--Application.show_config=True]\n",
            "--show-config-json\n",
            "    Show the application's configuration (json format)\n",
            "    Equivalent to: [--Application.show_config_json=True]\n",
            "--generate-config\n",
            "    generate default config file\n",
            "    Equivalent to: [--JupyterApp.generate_config=True]\n",
            "-y\n",
            "    Answer yes to any questions instead of prompting.\n",
            "    Equivalent to: [--JupyterApp.answer_yes=True]\n",
            "--execute\n",
            "    Execute the notebook prior to export.\n",
            "    Equivalent to: [--ExecutePreprocessor.enabled=True]\n",
            "--allow-errors\n",
            "    Continue notebook execution even if one of the cells throws an error and include the error message in the cell output (the default behaviour is to abort conversion). This flag is only relevant if '--execute' was specified, too.\n",
            "    Equivalent to: [--ExecutePreprocessor.allow_errors=True]\n",
            "--stdin\n",
            "    read a single notebook file from stdin. Write the resulting notebook with default basename 'notebook.*'\n",
            "    Equivalent to: [--NbConvertApp.from_stdin=True]\n",
            "--stdout\n",
            "    Write notebook output to stdout instead of files.\n",
            "    Equivalent to: [--NbConvertApp.writer_class=StdoutWriter]\n",
            "--inplace\n",
            "    Run nbconvert in place, overwriting the existing notebook (only\n",
            "            relevant when converting to notebook format)\n",
            "    Equivalent to: [--NbConvertApp.use_output_suffix=False --NbConvertApp.export_format=notebook --FilesWriter.build_directory=]\n",
            "--clear-output\n",
            "    Clear output of current file and save in place,\n",
            "            overwriting the existing notebook.\n",
            "    Equivalent to: [--NbConvertApp.use_output_suffix=False --NbConvertApp.export_format=notebook --FilesWriter.build_directory= --ClearOutputPreprocessor.enabled=True]\n",
            "--no-prompt\n",
            "    Exclude input and output prompts from converted document.\n",
            "    Equivalent to: [--TemplateExporter.exclude_input_prompt=True --TemplateExporter.exclude_output_prompt=True]\n",
            "--no-input\n",
            "    Exclude input cells and output prompts from converted document.\n",
            "            This mode is ideal for generating code-free reports.\n",
            "    Equivalent to: [--TemplateExporter.exclude_output_prompt=True --TemplateExporter.exclude_input=True --TemplateExporter.exclude_input_prompt=True]\n",
            "--allow-chromium-download\n",
            "    Whether to allow downloading chromium if no suitable version is found on the system.\n",
            "    Equivalent to: [--WebPDFExporter.allow_chromium_download=True]\n",
            "--disable-chromium-sandbox\n",
            "    Disable chromium security sandbox when converting to PDF..\n",
            "    Equivalent to: [--WebPDFExporter.disable_sandbox=True]\n",
            "--show-input\n",
            "    Shows code input. This flag is only useful for dejavu users.\n",
            "    Equivalent to: [--TemplateExporter.exclude_input=False]\n",
            "--embed-images\n",
            "    Embed the images as base64 dataurls in the output. This flag is only useful for the HTML/WebPDF/Slides exports.\n",
            "    Equivalent to: [--HTMLExporter.embed_images=True]\n",
            "--sanitize-html\n",
            "    Whether the HTML in Markdown cells and cell outputs should be sanitized..\n",
            "    Equivalent to: [--HTMLExporter.sanitize_html=True]\n",
            "--log-level=<Enum>\n",
            "    Set the log level by value or name.\n",
            "    Choices: any of [0, 10, 20, 30, 40, 50, 'DEBUG', 'INFO', 'WARN', 'ERROR', 'CRITICAL']\n",
            "    Default: 30\n",
            "    Equivalent to: [--Application.log_level]\n",
            "--config=<Unicode>\n",
            "    Full path of a config file.\n",
            "    Default: ''\n",
            "    Equivalent to: [--JupyterApp.config_file]\n",
            "--to=<Unicode>\n",
            "    The export format to be used, either one of the built-in formats\n",
            "            ['asciidoc', 'custom', 'html', 'latex', 'markdown', 'notebook', 'pdf', 'python', 'rst', 'script', 'slides', 'webpdf']\n",
            "            or a dotted object name that represents the import path for an\n",
            "            ``Exporter`` class\n",
            "    Default: ''\n",
            "    Equivalent to: [--NbConvertApp.export_format]\n",
            "--template=<Unicode>\n",
            "    Name of the template to use\n",
            "    Default: ''\n",
            "    Equivalent to: [--TemplateExporter.template_name]\n",
            "--template-file=<Unicode>\n",
            "    Name of the template file to use\n",
            "    Default: None\n",
            "    Equivalent to: [--TemplateExporter.template_file]\n",
            "--theme=<Unicode>\n",
            "    Template specific theme(e.g. the name of a JupyterLab CSS theme distributed\n",
            "    as prebuilt extension for the lab template)\n",
            "    Default: 'light'\n",
            "    Equivalent to: [--HTMLExporter.theme]\n",
            "--sanitize_html=<Bool>\n",
            "    Whether the HTML in Markdown cells and cell outputs should be sanitized.This\n",
            "    should be set to True by nbviewer or similar tools.\n",
            "    Default: False\n",
            "    Equivalent to: [--HTMLExporter.sanitize_html]\n",
            "--writer=<DottedObjectName>\n",
            "    Writer class used to write the\n",
            "                                        results of the conversion\n",
            "    Default: 'FilesWriter'\n",
            "    Equivalent to: [--NbConvertApp.writer_class]\n",
            "--post=<DottedOrNone>\n",
            "    PostProcessor class used to write the\n",
            "                                        results of the conversion\n",
            "    Default: ''\n",
            "    Equivalent to: [--NbConvertApp.postprocessor_class]\n",
            "--output=<Unicode>\n",
            "    overwrite base name use for output files.\n",
            "                can only be used when converting one notebook at a time.\n",
            "    Default: ''\n",
            "    Equivalent to: [--NbConvertApp.output_base]\n",
            "--output-dir=<Unicode>\n",
            "    Directory to write output(s) to. Defaults\n",
            "                                  to output to the directory of each notebook. To recover\n",
            "                                  previous default behaviour (outputting to the current\n",
            "                                  working directory) use . as the flag value.\n",
            "    Default: ''\n",
            "    Equivalent to: [--FilesWriter.build_directory]\n",
            "--reveal-prefix=<Unicode>\n",
            "    The URL prefix for reveal.js (version 3.x).\n",
            "            This defaults to the reveal CDN, but can be any url pointing to a copy\n",
            "            of reveal.js.\n",
            "            For speaker notes to work, this must be a relative path to a local\n",
            "            copy of reveal.js: e.g., \"reveal.js\".\n",
            "            If a relative path is given, it must be a subdirectory of the\n",
            "            current directory (from which the server is run).\n",
            "            See the usage documentation\n",
            "            (https://nbconvert.readthedocs.io/en/latest/usage.html#reveal-js-html-slideshow)\n",
            "            for more details.\n",
            "    Default: ''\n",
            "    Equivalent to: [--SlidesExporter.reveal_url_prefix]\n",
            "--nbformat=<Enum>\n",
            "    The nbformat version to write.\n",
            "            Use this to downgrade notebooks.\n",
            "    Choices: any of [1, 2, 3, 4]\n",
            "    Default: 4\n",
            "    Equivalent to: [--NotebookExporter.nbformat_version]\n",
            "\n",
            "Examples\n",
            "--------\n",
            "\n",
            "    The simplest way to use nbconvert is\n",
            "\n",
            "            > jupyter nbconvert mynotebook.ipynb --to html\n",
            "\n",
            "            Options include ['asciidoc', 'custom', 'html', 'latex', 'markdown', 'notebook', 'pdf', 'python', 'rst', 'script', 'slides', 'webpdf'].\n",
            "\n",
            "            > jupyter nbconvert --to latex mynotebook.ipynb\n",
            "\n",
            "            Both HTML and LaTeX support multiple output templates. LaTeX includes\n",
            "            'base', 'article' and 'report'.  HTML includes 'basic', 'lab' and\n",
            "            'classic'. You can specify the flavor of the format used.\n",
            "\n",
            "            > jupyter nbconvert --to html --template lab mynotebook.ipynb\n",
            "\n",
            "            You can also pipe the output to stdout, rather than a file\n",
            "\n",
            "            > jupyter nbconvert mynotebook.ipynb --stdout\n",
            "\n",
            "            PDF is generated via latex\n",
            "\n",
            "            > jupyter nbconvert mynotebook.ipynb --to pdf\n",
            "\n",
            "            You can get (and serve) a Reveal.js-powered slideshow\n",
            "\n",
            "            > jupyter nbconvert myslides.ipynb --to slides --post serve\n",
            "\n",
            "            Multiple notebooks can be given at the command line in a couple of\n",
            "            different ways:\n",
            "\n",
            "            > jupyter nbconvert notebook*.ipynb\n",
            "            > jupyter nbconvert notebook1.ipynb notebook2.ipynb\n",
            "\n",
            "            or you can specify the notebooks list in a config file, containing::\n",
            "\n",
            "                c.NbConvertApp.notebooks = [\"my_notebook.ipynb\"]\n",
            "\n",
            "            > jupyter nbconvert --config mycfg.py\n",
            "\n",
            "To see all available configurables, use `--help-all`.\n",
            "\n"
          ]
        }
      ]
    }
  ]
}